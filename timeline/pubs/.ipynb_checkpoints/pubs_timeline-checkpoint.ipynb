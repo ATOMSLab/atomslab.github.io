{
 "cells": [
  {
   "cell_type": "code",
   "execution_count": 2,
   "id": "b24fba84",
   "metadata": {},
   "outputs": [],
   "source": [
    "import matplotlib.pyplot as plt\n",
    "import matplotlib.dates as mdates\n",
    "import pandas as pd\n",
    "import numpy as np\n",
    "import plotly.figure_factory as ff\n",
    "import plotly.graph_objects as go"
   ]
  },
  {
   "cell_type": "code",
   "execution_count": 8,
   "id": "62d4d6b6",
   "metadata": {},
   "outputs": [],
   "source": [
    "#All lab members\n",
    "df = pd.read_excel('/Users/rediaz/GitHub/fraser-lab.github.io/timeline/pubs/pubs_timeline.xlsx')"
   ]
  },
  {
   "cell_type": "code",
   "execution_count": 9,
   "id": "b4e05227",
   "metadata": {},
   "outputs": [
    {
     "name": "stdout",
     "output_type": "stream",
     "text": [
      "         Task       Start      Finish     Author  OA FirstAuthor\n",
      "0      fraser  2006-06-02  2006-06-02     fraser NaN          PI\n",
      "1      fraser  2007-07-03  2007-07-03     fraser NaN          PI\n",
      "2      fraser  2007-08-01  2007-08-01     fraser NaN          PI\n",
      "3      fraser  2009-12-03  2009-12-03     fraser NaN          PI\n",
      "4        lang  2010-06-23  2010-06-23       lang NaN         NaN\n",
      "..        ...         ...         ...        ...  ..         ...\n",
      "77    ricardo  2021-03-29  2021-03-29    ricardo NaN         NaN\n",
      "78  jayaraman  2021-04-12  2021-04-12  jayaraman NaN         NaN\n",
      "79   schuller  2021-04-14  2021-04-14   schuller NaN     Postdoc\n",
      "80    linossi  2021-04-16  2021-04-16    linossi NaN         NaN\n",
      "81      gupta  2021-05-12  2021-05-12      gupta NaN         NaN\n",
      "\n",
      "[82 rows x 6 columns]\n"
     ]
    }
   ],
   "source": [
    "print(df)"
   ]
  },
  {
   "cell_type": "code",
   "execution_count": 15,
   "id": "72194ead",
   "metadata": {},
   "outputs": [],
   "source": [
    "colors=['red', 'blue', 'green', 'purple']"
   ]
  },
  {
   "cell_type": "code",
   "execution_count": 17,
   "id": "859c9c1f",
   "metadata": {
    "scrolled": false
   },
   "outputs": [
    {
     "ename": "PlotlyError",
     "evalue": "Error. The number of colors in 'colors' must be no less than the number of unique index values in your group column.",
     "output_type": "error",
     "traceback": [
      "\u001b[0;31m---------------------------------------------------------------------------\u001b[0m",
      "\u001b[0;31mPlotlyError\u001b[0m                               Traceback (most recent call last)",
      "\u001b[0;32m<ipython-input-17-39bc83fcb4cd>\u001b[0m in \u001b[0;36m<module>\u001b[0;34m\u001b[0m\n\u001b[1;32m      2\u001b[0m \u001b[0mdf\u001b[0m\u001b[0;34m.\u001b[0m\u001b[0mcolumns\u001b[0m \u001b[0;34m=\u001b[0m \u001b[0;34m[\u001b[0m\u001b[0;34m'Task'\u001b[0m\u001b[0;34m,\u001b[0m \u001b[0;34m'Start'\u001b[0m\u001b[0;34m,\u001b[0m \u001b[0;34m'Finish'\u001b[0m\u001b[0;34m,\u001b[0m \u001b[0;34m'Author'\u001b[0m\u001b[0;34m,\u001b[0m \u001b[0;34m'OA'\u001b[0m\u001b[0;34m,\u001b[0m \u001b[0;34m'FirstAuthor'\u001b[0m\u001b[0;34m]\u001b[0m\u001b[0;34m\u001b[0m\u001b[0;34m\u001b[0m\u001b[0m\n\u001b[1;32m      3\u001b[0m \u001b[0;34m\u001b[0m\u001b[0m\n\u001b[0;32m----> 4\u001b[0;31m fig_plotly = ff.create_gantt(df, index_col='Task', title='Fraser Lab Publications',\n\u001b[0m\u001b[1;32m      5\u001b[0m                              colors=colors, show_colorbar=True, bar_width=0.4, showgrid_x=True, showgrid_y=True, group_tasks=True)\n\u001b[1;32m      6\u001b[0m \u001b[0;34m\u001b[0m\u001b[0m\n",
      "\u001b[0;32m/opt/anaconda3/envs/Python3/lib/python3.8/site-packages/plotly/figure_factory/_gantt.py\u001b[0m in \u001b[0;36mcreate_gantt\u001b[0;34m(df, colors, index_col, show_colorbar, reverse_colors, title, bar_width, showgrid_x, showgrid_y, height, width, tasks, task_names, data, group_tasks, show_hover_fill)\u001b[0m\n\u001b[1;32m    995\u001b[0m     \u001b[0;32melse\u001b[0m\u001b[0;34m:\u001b[0m\u001b[0;34m\u001b[0m\u001b[0;34m\u001b[0m\u001b[0m\n\u001b[1;32m    996\u001b[0m         \u001b[0;32mif\u001b[0m \u001b[0;32mnot\u001b[0m \u001b[0misinstance\u001b[0m\u001b[0;34m(\u001b[0m\u001b[0mcolors\u001b[0m\u001b[0;34m,\u001b[0m \u001b[0mdict\u001b[0m\u001b[0;34m)\u001b[0m\u001b[0;34m:\u001b[0m\u001b[0;34m\u001b[0m\u001b[0;34m\u001b[0m\u001b[0m\n\u001b[0;32m--> 997\u001b[0;31m             fig = gantt_colorscale(\n\u001b[0m\u001b[1;32m    998\u001b[0m                 \u001b[0mchart\u001b[0m\u001b[0;34m,\u001b[0m\u001b[0;34m\u001b[0m\u001b[0;34m\u001b[0m\u001b[0m\n\u001b[1;32m    999\u001b[0m                 \u001b[0mcolors\u001b[0m\u001b[0;34m,\u001b[0m\u001b[0;34m\u001b[0m\u001b[0;34m\u001b[0m\u001b[0m\n",
      "\u001b[0;32m/opt/anaconda3/envs/Python3/lib/python3.8/site-packages/plotly/figure_factory/_gantt.py\u001b[0m in \u001b[0;36mgantt_colorscale\u001b[0;34m(chart, colors, title, index_col, show_colorbar, bar_width, showgrid_x, showgrid_y, height, width, tasks, task_names, data, group_tasks, show_hover_fill)\u001b[0m\n\u001b[1;32m    446\u001b[0m \u001b[0;34m\u001b[0m\u001b[0m\n\u001b[1;32m    447\u001b[0m         \u001b[0;32mif\u001b[0m \u001b[0mlen\u001b[0m\u001b[0;34m(\u001b[0m\u001b[0mcolors\u001b[0m\u001b[0;34m)\u001b[0m \u001b[0;34m<\u001b[0m \u001b[0mlen\u001b[0m\u001b[0;34m(\u001b[0m\u001b[0mindex_vals\u001b[0m\u001b[0;34m)\u001b[0m\u001b[0;34m:\u001b[0m\u001b[0;34m\u001b[0m\u001b[0;34m\u001b[0m\u001b[0m\n\u001b[0;32m--> 448\u001b[0;31m             raise exceptions.PlotlyError(\n\u001b[0m\u001b[1;32m    449\u001b[0m                 \u001b[0;34m\"Error. The number of colors in 'colors' must be no less \"\u001b[0m\u001b[0;34m\u001b[0m\u001b[0;34m\u001b[0m\u001b[0m\n\u001b[1;32m    450\u001b[0m                 \u001b[0;34m\"than the number of unique index values in your group \"\u001b[0m\u001b[0;34m\u001b[0m\u001b[0;34m\u001b[0m\u001b[0m\n",
      "\u001b[0;31mPlotlyError\u001b[0m: Error. The number of colors in 'colors' must be no less than the number of unique index values in your group column."
     ]
    }
   ],
   "source": [
    "# Gantt chart in Plotly has mandatory format of data columns\n",
    "df.columns = ['Task', 'Start', 'Finish', 'Author', 'OA', 'FirstAuthor']\n",
    "\n",
    "fig_plotly = ff.create_gantt(df, index_col='FirstAuthor', title='Fraser Lab Publications',\n",
    "                             colors=colors, show_colorbar=True, bar_width=0.4, showgrid_x=True, showgrid_y=True, group_tasks=True)\n",
    "\n",
    "fig_plotly.update_layout(\n",
    "    autosize=True,\n",
    "    width=1000,\n",
    "    height=1000,\n",
    "    margin=go.layout.Margin(\n",
    "        l=150,\n",
    "        r=5,\n",
    "        b=100,\n",
    "        t=100,\n",
    "        pad=4\n",
    "    )\n",
    ")"
   ]
  },
  {
   "cell_type": "code",
   "execution_count": null,
   "id": "42298de9",
   "metadata": {},
   "outputs": [],
   "source": []
  }
 ],
 "metadata": {
  "kernelspec": {
   "display_name": "Python 3",
   "language": "python",
   "name": "python3"
  },
  "language_info": {
   "codemirror_mode": {
    "name": "ipython",
    "version": 3
   },
   "file_extension": ".py",
   "mimetype": "text/x-python",
   "name": "python",
   "nbconvert_exporter": "python",
   "pygments_lexer": "ipython3",
   "version": "3.8.8"
  }
 },
 "nbformat": 4,
 "nbformat_minor": 5
}
