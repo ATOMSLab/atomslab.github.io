{
 "cells": [
  {
   "cell_type": "code",
   "execution_count": 19,
   "id": "b24fba84",
   "metadata": {},
   "outputs": [],
   "source": [
    "import matplotlib.pyplot as plt\n",
    "import matplotlib.dates as mdates\n",
    "import pandas as pd\n",
    "import numpy as np"
   ]
  },
  {
   "cell_type": "code",
   "execution_count": 89,
   "id": "a066283e",
   "metadata": {},
   "outputs": [],
   "source": [
    "df = pandas.read_csv('/Users/rediaz/Downloads/fraser_timeline.csv')"
   ]
  },
  {
   "cell_type": "code",
   "execution_count": 90,
   "id": "859c9c1f",
   "metadata": {
    "scrolled": false
   },
   "outputs": [
    {
     "data": {
      "application/vnd.plotly.v1+json": {
       "config": {
        "plotlyServerURL": "https://plot.ly"
       },
       "data": [
        {
         "fill": "toself",
         "fillcolor": "rgb(140, 86, 75)",
         "hoverinfo": "name",
         "legendgroup": "rgb(140, 86, 75)",
         "mode": "none",
         "name": "Specialist",
         "showlegend": true,
         "type": "scatter",
         "x": [
          "2011-01-01",
          "2014-09-01",
          "2014-09-01",
          "2011-01-01",
          "2011-01-01",
          "2011-05-01",
          "2011-08-01",
          "2011-08-01",
          "2011-05-01",
          "2011-05-01",
          "2011-10-01",
          "2021-02-19",
          "2021-02-19",
          "2011-10-01",
          "2011-10-01",
          "2012-01-01",
          "2013-07-01",
          "2013-07-01",
          "2012-01-01",
          "2012-01-01",
          "2016-03-01",
          "2016-12-01",
          "2016-12-01",
          "2016-03-01",
          "2016-03-01",
          "2019-05-20",
          "2020-07-31",
          "2020-07-31",
          "2019-05-20",
          "2019-05-20",
          "2019-07-01",
          "2020-08-01",
          "2020-08-01",
          "2019-07-01",
          "2019-07-01",
          "2019-08-05",
          "2021-06-02",
          "2021-06-02",
          "2019-08-05",
          "2019-08-05",
          "2020-02-13",
          "2021-06-02",
          "2021-06-02",
          "2020-02-13",
          "2020-02-13",
          "2020-05-11",
          "2021-06-02",
          "2021-06-02",
          "2020-05-11",
          "2020-05-11",
          "2021-06-14",
          "2021-06-02",
          "2021-06-02",
          "2021-06-14",
          "2021-06-14",
          null,
          null,
          null,
          null
         ],
         "y": [
          47.6,
          47.6,
          48.4,
          48.4,
          null,
          46.6,
          46.6,
          47.4,
          47.4,
          null,
          43.6,
          43.6,
          44.4,
          44.4,
          null,
          42.6,
          42.6,
          43.4,
          43.4,
          null,
          30.6,
          30.6,
          31.4,
          31.4,
          null,
          19.6,
          19.6,
          20.4,
          20.4,
          null,
          16.6,
          16.6,
          17.4,
          17.4,
          null,
          34.6,
          34.6,
          35.4,
          35.4,
          null,
          12.6,
          12.6,
          13.4,
          13.4,
          null,
          11.6,
          11.6,
          12.4,
          12.4,
          null,
          4.6,
          4.6,
          5.4,
          5.4,
          null,
          1.6,
          1.6,
          2.4,
          2.4
         ]
        },
        {
         "fill": "toself",
         "fillcolor": "rgb(148, 103, 189)",
         "hoverinfo": "name",
         "legendgroup": "rgb(148, 103, 189)",
         "mode": "none",
         "name": "SRTP",
         "showlegend": true,
         "type": "scatter",
         "x": [
          "2019-06-12",
          "2019-07-26",
          "2019-07-26",
          "2019-06-12",
          "2019-06-12",
          "2021-04-29",
          "2021-08-01",
          "2021-08-01",
          "2021-04-29",
          "2021-04-29",
          "2021-06-01",
          "2021-08-01",
          "2021-08-01",
          "2021-06-01",
          "2021-06-01",
          "2021-06-02",
          "2021-08-01",
          "2021-08-01",
          "2021-06-02"
         ],
         "y": [
          17.6,
          17.6,
          18.4,
          18.4,
          null,
          7.6,
          7.6,
          8.4,
          8.4,
          null,
          6.6,
          6.6,
          7.4,
          7.4,
          null,
          5.6,
          5.6,
          6.4,
          6.4
         ]
        },
        {
         "fill": "toself",
         "fillcolor": "rgb(214, 39, 40)",
         "hoverinfo": "name",
         "legendgroup": "rgb(214, 39, 40)",
         "mode": "none",
         "name": "SEP",
         "showlegend": true,
         "type": "scatter",
         "x": [
          "2011-06-01",
          "2012-08-01",
          "2012-08-01",
          "2011-06-01",
          "2011-06-01",
          "2014-06-01",
          "2017-08-01",
          "2017-08-01",
          "2014-06-01",
          "2014-06-01",
          "2015-06-01",
          "2017-08-01",
          "2017-08-01",
          "2015-06-01",
          "2015-06-01",
          "2016-06-01",
          "2018-08-01",
          "2018-08-01",
          "2016-06-01",
          "2016-06-01",
          "2018-06-01",
          "2019-08-01",
          "2019-08-01",
          "2018-06-01"
         ],
         "y": [
          45.6,
          45.6,
          46.4,
          46.4,
          null,
          37.6,
          37.6,
          38.4,
          38.4,
          null,
          32.6,
          32.6,
          33.4,
          33.4,
          null,
          29.6,
          29.6,
          30.4,
          30.4,
          null,
          24.6,
          24.6,
          25.4,
          25.4
         ]
        },
        {
         "fill": "toself",
         "fillcolor": "rgb(227, 119, 194)",
         "hoverinfo": "name",
         "legendgroup": "rgb(227, 119, 194)",
         "mode": "none",
         "name": "Visitor",
         "showlegend": true,
         "type": "scatter",
         "x": [
          "2014-05-01",
          "2014-08-01",
          "2014-08-01",
          "2014-05-01",
          "2014-05-01",
          "2017-01-01",
          "2018-01-01",
          "2018-01-01",
          "2017-01-01",
          "2017-01-01",
          "2018-01-01",
          "2018-05-01",
          "2018-05-01",
          "2018-01-01",
          "2018-01-01",
          "2020-02-01",
          "2020-02-28",
          "2020-02-28",
          "2020-02-01",
          "2020-02-01",
          "2020-02-01",
          "2021-01-31",
          "2021-01-31",
          "2020-02-01"
         ],
         "y": [
          38.6,
          38.6,
          39.4,
          39.4,
          null,
          27.6,
          27.6,
          28.4,
          28.4,
          null,
          25.6,
          25.6,
          26.4,
          26.4,
          null,
          14.6,
          14.6,
          15.4,
          15.4,
          null,
          13.6,
          13.6,
          14.4,
          14.4
         ]
        },
        {
         "fill": "toself",
         "fillcolor": "rgb(255, 127, 14)",
         "hoverinfo": "name",
         "legendgroup": "rgb(255, 127, 14)",
         "mode": "none",
         "name": "PI",
         "showlegend": true,
         "type": "scatter",
         "x": [
          "2011-01-01",
          "2021-06-02",
          "2021-06-02",
          "2011-01-01"
         ],
         "y": [
          48.6,
          48.6,
          49.4,
          49.4
         ]
        },
        {
         "fill": "toself",
         "fillcolor": "rgb(31, 119, 180)",
         "hoverinfo": "name",
         "legendgroup": "rgb(31, 119, 180)",
         "mode": "none",
         "name": "Graduate Student",
         "showlegend": true,
         "type": "scatter",
         "x": [
          "2011-09-01",
          "2015-05-26",
          "2015-05-26",
          "2011-09-01",
          "2011-09-01",
          "2012-09-01",
          "2017-04-01",
          "2017-04-01",
          "2012-09-01",
          "2012-09-01",
          "2012-09-01",
          "2017-02-09",
          "2017-02-09",
          "2012-09-01",
          "2012-09-01",
          "2014-09-01",
          "2019-07-29",
          "2019-07-29",
          "2014-09-01",
          "2014-09-01",
          "2014-09-02",
          "2021-06-02",
          "2021-06-02",
          "2014-09-02",
          "2014-09-02",
          "2015-06-01",
          "2020-12-31",
          "2020-12-31",
          "2015-06-01",
          "2015-06-01",
          "2015-09-01",
          "2020-03-24",
          "2020-03-24",
          "2015-09-01",
          "2015-09-01",
          "2018-06-13",
          "2021-06-02",
          "2021-06-02",
          "2018-06-13",
          "2018-06-13",
          "2018-06-25",
          "2021-06-02",
          "2021-06-02",
          "2018-06-25",
          "2018-06-25",
          "2019-06-06",
          "2021-06-02",
          "2021-06-02",
          "2019-06-06",
          "2019-06-06",
          "2019-07-19",
          "2021-06-02",
          "2021-06-02",
          "2019-07-19"
         ],
         "y": [
          44.6,
          44.6,
          45.4,
          45.4,
          null,
          41.6,
          41.6,
          42.4,
          42.4,
          null,
          40.6,
          40.6,
          41.4,
          41.4,
          null,
          36.6,
          36.6,
          37.4,
          37.4,
          null,
          34.6,
          34.6,
          35.4,
          35.4,
          null,
          33.6,
          33.6,
          34.4,
          34.4,
          null,
          31.6,
          31.6,
          32.4,
          32.4,
          null,
          23.6,
          23.6,
          24.4,
          24.4,
          null,
          22.6,
          22.6,
          23.4,
          23.4,
          null,
          18.6,
          18.6,
          19.4,
          19.4,
          null,
          15.6,
          15.6,
          16.4,
          16.4
         ]
        },
        {
         "fill": "toself",
         "fillcolor": "rgb(44, 160, 44)",
         "hoverinfo": "name",
         "legendgroup": "rgb(44, 160, 44)",
         "mode": "none",
         "name": "Postdoctoral Fellow",
         "showlegend": true,
         "type": "scatter",
         "x": [
          "2012-11-01",
          "2017-11-01",
          "2017-11-01",
          "2012-11-01",
          "2012-11-01",
          "2014-09-01",
          "2020-08-01",
          "2020-08-01",
          "2014-09-01",
          "2014-09-01",
          "2016-08-15",
          "2018-02-09",
          "2018-02-09",
          "2016-08-15",
          "2016-08-15",
          "2017-11-01",
          "2021-06-02",
          "2021-06-02",
          "2017-11-01",
          "2017-11-01",
          "2018-07-01",
          "2019-08-14",
          "2019-08-14",
          "2018-07-01",
          "2018-07-01",
          "2018-08-09",
          "2021-06-02",
          "2021-06-02",
          "2018-08-09",
          "2018-08-09",
          "2020-05-20",
          "2021-06-02",
          "2021-06-02",
          "2020-05-20",
          "2020-05-20",
          "2020-06-15",
          "2021-06-02",
          "2021-06-02",
          "2020-06-15",
          "2020-06-15",
          "2020-08-01",
          "2021-06-02",
          "2021-06-02",
          "2020-08-01",
          "2020-08-01",
          null,
          null,
          null,
          null,
          null,
          null,
          null,
          null,
          null,
          null,
          null,
          null,
          null,
          null,
          null,
          null,
          null,
          null,
          null
         ],
         "y": [
          39.6,
          39.6,
          40.4,
          40.4,
          null,
          35.6,
          35.6,
          36.4,
          36.4,
          null,
          28.6,
          28.6,
          29.4,
          29.4,
          null,
          26.6,
          26.6,
          27.4,
          27.4,
          null,
          21.6,
          21.6,
          22.4,
          22.4,
          null,
          20.6,
          20.6,
          21.4,
          21.4,
          null,
          10.6,
          10.6,
          11.4,
          11.4,
          null,
          9.6,
          9.6,
          10.4,
          10.4,
          null,
          8.6,
          8.6,
          9.4,
          9.4,
          null,
          3.6,
          3.6,
          4.4,
          4.4,
          null,
          2.6,
          2.6,
          3.4,
          3.4,
          null,
          0.6,
          0.6,
          1.4,
          1.4,
          null,
          -0.4,
          -0.4,
          0.4,
          0.4
         ]
        },
        {
         "legendgroup": "rgb(140, 86, 75)",
         "marker": {
          "color": "rgb(140, 86, 75)",
          "opacity": 0,
          "size": 1
         },
         "mode": "markers",
         "name": "",
         "showlegend": false,
         "text": [
          null,
          null,
          null,
          null,
          null,
          null,
          null,
          null,
          null,
          null,
          null,
          null,
          null,
          null,
          null,
          null,
          null,
          null,
          null,
          null,
          null,
          null,
          null,
          null
         ],
         "type": "scatter",
         "x": [
          "2011-01-01",
          "2014-09-01",
          "2011-05-01",
          "2011-08-01",
          "2011-10-01",
          "2021-02-19",
          "2012-01-01",
          "2013-07-01",
          "2016-03-01",
          "2016-12-01",
          "2019-05-20",
          "2020-07-31",
          "2019-07-01",
          "2020-08-01",
          "2019-08-05",
          "2021-06-02",
          "2020-02-13",
          "2021-06-02",
          "2020-05-11",
          "2021-06-02",
          "2021-06-14",
          "2021-06-02",
          null,
          null
         ],
         "y": [
          48,
          48,
          47,
          47,
          44,
          44,
          43,
          43,
          31,
          31,
          20,
          20,
          17,
          17,
          35,
          35,
          13,
          13,
          12,
          12,
          5,
          5,
          2,
          2
         ]
        },
        {
         "legendgroup": "rgb(148, 103, 189)",
         "marker": {
          "color": "rgb(148, 103, 189)",
          "opacity": 0,
          "size": 1
         },
         "mode": "markers",
         "name": "",
         "showlegend": false,
         "text": [
          null,
          null,
          null,
          null,
          null,
          null,
          null,
          null
         ],
         "type": "scatter",
         "x": [
          "2019-06-12",
          "2019-07-26",
          "2021-04-29",
          "2021-08-01",
          "2021-06-01",
          "2021-08-01",
          "2021-06-02",
          "2021-08-01"
         ],
         "y": [
          18,
          18,
          8,
          8,
          7,
          7,
          6,
          6
         ]
        },
        {
         "legendgroup": "rgb(214, 39, 40)",
         "marker": {
          "color": "rgb(214, 39, 40)",
          "opacity": 0,
          "size": 1
         },
         "mode": "markers",
         "name": "",
         "showlegend": false,
         "text": [
          null,
          null,
          null,
          null,
          null,
          null,
          null,
          null,
          null,
          null
         ],
         "type": "scatter",
         "x": [
          "2011-06-01",
          "2012-08-01",
          "2014-06-01",
          "2017-08-01",
          "2015-06-01",
          "2017-08-01",
          "2016-06-01",
          "2018-08-01",
          "2018-06-01",
          "2019-08-01"
         ],
         "y": [
          46,
          46,
          38,
          38,
          33,
          33,
          30,
          30,
          25,
          25
         ]
        },
        {
         "legendgroup": "rgb(227, 119, 194)",
         "marker": {
          "color": "rgb(227, 119, 194)",
          "opacity": 0,
          "size": 1
         },
         "mode": "markers",
         "name": "",
         "showlegend": false,
         "text": [
          null,
          null,
          null,
          null,
          null,
          null,
          null,
          null,
          null,
          null
         ],
         "type": "scatter",
         "x": [
          "2014-05-01",
          "2014-08-01",
          "2017-01-01",
          "2018-01-01",
          "2018-01-01",
          "2018-05-01",
          "2020-02-01",
          "2020-02-28",
          "2020-02-01",
          "2021-01-31"
         ],
         "y": [
          39,
          39,
          28,
          28,
          26,
          26,
          15,
          15,
          14,
          14
         ]
        },
        {
         "legendgroup": "rgb(255, 127, 14)",
         "marker": {
          "color": "rgb(255, 127, 14)",
          "opacity": 0,
          "size": 1
         },
         "mode": "markers",
         "name": "",
         "showlegend": false,
         "text": [
          null,
          null
         ],
         "type": "scatter",
         "x": [
          "2011-01-01",
          "2021-06-02"
         ],
         "y": [
          49,
          49
         ]
        },
        {
         "legendgroup": "rgb(31, 119, 180)",
         "marker": {
          "color": "rgb(31, 119, 180)",
          "opacity": 0,
          "size": 1
         },
         "mode": "markers",
         "name": "",
         "showlegend": false,
         "text": [
          null,
          null,
          null,
          null,
          null,
          null,
          null,
          null,
          null,
          null,
          null,
          null,
          null,
          null,
          null,
          null,
          null,
          null,
          null,
          null,
          null,
          null
         ],
         "type": "scatter",
         "x": [
          "2011-09-01",
          "2015-05-26",
          "2012-09-01",
          "2017-04-01",
          "2012-09-01",
          "2017-02-09",
          "2014-09-01",
          "2019-07-29",
          "2014-09-02",
          "2021-06-02",
          "2015-06-01",
          "2020-12-31",
          "2015-09-01",
          "2020-03-24",
          "2018-06-13",
          "2021-06-02",
          "2018-06-25",
          "2021-06-02",
          "2019-06-06",
          "2021-06-02",
          "2019-07-19",
          "2021-06-02"
         ],
         "y": [
          45,
          45,
          42,
          42,
          41,
          41,
          37,
          37,
          35,
          35,
          34,
          34,
          32,
          32,
          24,
          24,
          23,
          23,
          19,
          19,
          16,
          16
         ]
        },
        {
         "legendgroup": "rgb(44, 160, 44)",
         "marker": {
          "color": "rgb(44, 160, 44)",
          "opacity": 0,
          "size": 1
         },
         "mode": "markers",
         "name": "",
         "showlegend": false,
         "text": [
          null,
          null,
          null,
          null,
          null,
          null,
          null,
          null,
          null,
          null,
          null,
          null,
          null,
          null,
          null,
          null,
          null,
          null,
          null,
          null,
          null,
          null,
          null,
          null,
          null,
          null
         ],
         "type": "scatter",
         "x": [
          "2012-11-01",
          "2017-11-01",
          "2014-09-01",
          "2020-08-01",
          "2016-08-15",
          "2018-02-09",
          "2017-11-01",
          "2021-06-02",
          "2018-07-01",
          "2019-08-14",
          "2018-08-09",
          "2021-06-02",
          "2020-05-20",
          "2021-06-02",
          "2020-06-15",
          "2021-06-02",
          "2020-08-01",
          "2021-06-02",
          null,
          null,
          null,
          null,
          null,
          null,
          null,
          null
         ],
         "y": [
          40,
          40,
          36,
          36,
          29,
          29,
          27,
          27,
          22,
          22,
          21,
          21,
          11,
          11,
          10,
          10,
          9,
          9,
          4,
          4,
          3,
          3,
          1,
          1,
          0,
          0
         ]
        }
       ],
       "layout": {
        "autosize": true,
        "height": 1000,
        "hovermode": "closest",
        "margin": {
         "b": 100,
         "l": 150,
         "pad": 4,
         "r": 5,
         "t": 100
        },
        "showlegend": true,
        "template": {
         "data": {
          "bar": [
           {
            "error_x": {
             "color": "#2a3f5f"
            },
            "error_y": {
             "color": "#2a3f5f"
            },
            "marker": {
             "line": {
              "color": "#E5ECF6",
              "width": 0.5
             }
            },
            "type": "bar"
           }
          ],
          "barpolar": [
           {
            "marker": {
             "line": {
              "color": "#E5ECF6",
              "width": 0.5
             }
            },
            "type": "barpolar"
           }
          ],
          "carpet": [
           {
            "aaxis": {
             "endlinecolor": "#2a3f5f",
             "gridcolor": "white",
             "linecolor": "white",
             "minorgridcolor": "white",
             "startlinecolor": "#2a3f5f"
            },
            "baxis": {
             "endlinecolor": "#2a3f5f",
             "gridcolor": "white",
             "linecolor": "white",
             "minorgridcolor": "white",
             "startlinecolor": "#2a3f5f"
            },
            "type": "carpet"
           }
          ],
          "choropleth": [
           {
            "colorbar": {
             "outlinewidth": 0,
             "ticks": ""
            },
            "type": "choropleth"
           }
          ],
          "contour": [
           {
            "colorbar": {
             "outlinewidth": 0,
             "ticks": ""
            },
            "colorscale": [
             [
              0,
              "#0d0887"
             ],
             [
              0.1111111111111111,
              "#46039f"
             ],
             [
              0.2222222222222222,
              "#7201a8"
             ],
             [
              0.3333333333333333,
              "#9c179e"
             ],
             [
              0.4444444444444444,
              "#bd3786"
             ],
             [
              0.5555555555555556,
              "#d8576b"
             ],
             [
              0.6666666666666666,
              "#ed7953"
             ],
             [
              0.7777777777777778,
              "#fb9f3a"
             ],
             [
              0.8888888888888888,
              "#fdca26"
             ],
             [
              1,
              "#f0f921"
             ]
            ],
            "type": "contour"
           }
          ],
          "contourcarpet": [
           {
            "colorbar": {
             "outlinewidth": 0,
             "ticks": ""
            },
            "type": "contourcarpet"
           }
          ],
          "heatmap": [
           {
            "colorbar": {
             "outlinewidth": 0,
             "ticks": ""
            },
            "colorscale": [
             [
              0,
              "#0d0887"
             ],
             [
              0.1111111111111111,
              "#46039f"
             ],
             [
              0.2222222222222222,
              "#7201a8"
             ],
             [
              0.3333333333333333,
              "#9c179e"
             ],
             [
              0.4444444444444444,
              "#bd3786"
             ],
             [
              0.5555555555555556,
              "#d8576b"
             ],
             [
              0.6666666666666666,
              "#ed7953"
             ],
             [
              0.7777777777777778,
              "#fb9f3a"
             ],
             [
              0.8888888888888888,
              "#fdca26"
             ],
             [
              1,
              "#f0f921"
             ]
            ],
            "type": "heatmap"
           }
          ],
          "heatmapgl": [
           {
            "colorbar": {
             "outlinewidth": 0,
             "ticks": ""
            },
            "colorscale": [
             [
              0,
              "#0d0887"
             ],
             [
              0.1111111111111111,
              "#46039f"
             ],
             [
              0.2222222222222222,
              "#7201a8"
             ],
             [
              0.3333333333333333,
              "#9c179e"
             ],
             [
              0.4444444444444444,
              "#bd3786"
             ],
             [
              0.5555555555555556,
              "#d8576b"
             ],
             [
              0.6666666666666666,
              "#ed7953"
             ],
             [
              0.7777777777777778,
              "#fb9f3a"
             ],
             [
              0.8888888888888888,
              "#fdca26"
             ],
             [
              1,
              "#f0f921"
             ]
            ],
            "type": "heatmapgl"
           }
          ],
          "histogram": [
           {
            "marker": {
             "colorbar": {
              "outlinewidth": 0,
              "ticks": ""
             }
            },
            "type": "histogram"
           }
          ],
          "histogram2d": [
           {
            "colorbar": {
             "outlinewidth": 0,
             "ticks": ""
            },
            "colorscale": [
             [
              0,
              "#0d0887"
             ],
             [
              0.1111111111111111,
              "#46039f"
             ],
             [
              0.2222222222222222,
              "#7201a8"
             ],
             [
              0.3333333333333333,
              "#9c179e"
             ],
             [
              0.4444444444444444,
              "#bd3786"
             ],
             [
              0.5555555555555556,
              "#d8576b"
             ],
             [
              0.6666666666666666,
              "#ed7953"
             ],
             [
              0.7777777777777778,
              "#fb9f3a"
             ],
             [
              0.8888888888888888,
              "#fdca26"
             ],
             [
              1,
              "#f0f921"
             ]
            ],
            "type": "histogram2d"
           }
          ],
          "histogram2dcontour": [
           {
            "colorbar": {
             "outlinewidth": 0,
             "ticks": ""
            },
            "colorscale": [
             [
              0,
              "#0d0887"
             ],
             [
              0.1111111111111111,
              "#46039f"
             ],
             [
              0.2222222222222222,
              "#7201a8"
             ],
             [
              0.3333333333333333,
              "#9c179e"
             ],
             [
              0.4444444444444444,
              "#bd3786"
             ],
             [
              0.5555555555555556,
              "#d8576b"
             ],
             [
              0.6666666666666666,
              "#ed7953"
             ],
             [
              0.7777777777777778,
              "#fb9f3a"
             ],
             [
              0.8888888888888888,
              "#fdca26"
             ],
             [
              1,
              "#f0f921"
             ]
            ],
            "type": "histogram2dcontour"
           }
          ],
          "mesh3d": [
           {
            "colorbar": {
             "outlinewidth": 0,
             "ticks": ""
            },
            "type": "mesh3d"
           }
          ],
          "parcoords": [
           {
            "line": {
             "colorbar": {
              "outlinewidth": 0,
              "ticks": ""
             }
            },
            "type": "parcoords"
           }
          ],
          "pie": [
           {
            "automargin": true,
            "type": "pie"
           }
          ],
          "scatter": [
           {
            "marker": {
             "colorbar": {
              "outlinewidth": 0,
              "ticks": ""
             }
            },
            "type": "scatter"
           }
          ],
          "scatter3d": [
           {
            "line": {
             "colorbar": {
              "outlinewidth": 0,
              "ticks": ""
             }
            },
            "marker": {
             "colorbar": {
              "outlinewidth": 0,
              "ticks": ""
             }
            },
            "type": "scatter3d"
           }
          ],
          "scattercarpet": [
           {
            "marker": {
             "colorbar": {
              "outlinewidth": 0,
              "ticks": ""
             }
            },
            "type": "scattercarpet"
           }
          ],
          "scattergeo": [
           {
            "marker": {
             "colorbar": {
              "outlinewidth": 0,
              "ticks": ""
             }
            },
            "type": "scattergeo"
           }
          ],
          "scattergl": [
           {
            "marker": {
             "colorbar": {
              "outlinewidth": 0,
              "ticks": ""
             }
            },
            "type": "scattergl"
           }
          ],
          "scattermapbox": [
           {
            "marker": {
             "colorbar": {
              "outlinewidth": 0,
              "ticks": ""
             }
            },
            "type": "scattermapbox"
           }
          ],
          "scatterpolar": [
           {
            "marker": {
             "colorbar": {
              "outlinewidth": 0,
              "ticks": ""
             }
            },
            "type": "scatterpolar"
           }
          ],
          "scatterpolargl": [
           {
            "marker": {
             "colorbar": {
              "outlinewidth": 0,
              "ticks": ""
             }
            },
            "type": "scatterpolargl"
           }
          ],
          "scatterternary": [
           {
            "marker": {
             "colorbar": {
              "outlinewidth": 0,
              "ticks": ""
             }
            },
            "type": "scatterternary"
           }
          ],
          "surface": [
           {
            "colorbar": {
             "outlinewidth": 0,
             "ticks": ""
            },
            "colorscale": [
             [
              0,
              "#0d0887"
             ],
             [
              0.1111111111111111,
              "#46039f"
             ],
             [
              0.2222222222222222,
              "#7201a8"
             ],
             [
              0.3333333333333333,
              "#9c179e"
             ],
             [
              0.4444444444444444,
              "#bd3786"
             ],
             [
              0.5555555555555556,
              "#d8576b"
             ],
             [
              0.6666666666666666,
              "#ed7953"
             ],
             [
              0.7777777777777778,
              "#fb9f3a"
             ],
             [
              0.8888888888888888,
              "#fdca26"
             ],
             [
              1,
              "#f0f921"
             ]
            ],
            "type": "surface"
           }
          ],
          "table": [
           {
            "cells": {
             "fill": {
              "color": "#EBF0F8"
             },
             "line": {
              "color": "white"
             }
            },
            "header": {
             "fill": {
              "color": "#C8D4E3"
             },
             "line": {
              "color": "white"
             }
            },
            "type": "table"
           }
          ]
         },
         "layout": {
          "annotationdefaults": {
           "arrowcolor": "#2a3f5f",
           "arrowhead": 0,
           "arrowwidth": 1
          },
          "autotypenumbers": "strict",
          "coloraxis": {
           "colorbar": {
            "outlinewidth": 0,
            "ticks": ""
           }
          },
          "colorscale": {
           "diverging": [
            [
             0,
             "#8e0152"
            ],
            [
             0.1,
             "#c51b7d"
            ],
            [
             0.2,
             "#de77ae"
            ],
            [
             0.3,
             "#f1b6da"
            ],
            [
             0.4,
             "#fde0ef"
            ],
            [
             0.5,
             "#f7f7f7"
            ],
            [
             0.6,
             "#e6f5d0"
            ],
            [
             0.7,
             "#b8e186"
            ],
            [
             0.8,
             "#7fbc41"
            ],
            [
             0.9,
             "#4d9221"
            ],
            [
             1,
             "#276419"
            ]
           ],
           "sequential": [
            [
             0,
             "#0d0887"
            ],
            [
             0.1111111111111111,
             "#46039f"
            ],
            [
             0.2222222222222222,
             "#7201a8"
            ],
            [
             0.3333333333333333,
             "#9c179e"
            ],
            [
             0.4444444444444444,
             "#bd3786"
            ],
            [
             0.5555555555555556,
             "#d8576b"
            ],
            [
             0.6666666666666666,
             "#ed7953"
            ],
            [
             0.7777777777777778,
             "#fb9f3a"
            ],
            [
             0.8888888888888888,
             "#fdca26"
            ],
            [
             1,
             "#f0f921"
            ]
           ],
           "sequentialminus": [
            [
             0,
             "#0d0887"
            ],
            [
             0.1111111111111111,
             "#46039f"
            ],
            [
             0.2222222222222222,
             "#7201a8"
            ],
            [
             0.3333333333333333,
             "#9c179e"
            ],
            [
             0.4444444444444444,
             "#bd3786"
            ],
            [
             0.5555555555555556,
             "#d8576b"
            ],
            [
             0.6666666666666666,
             "#ed7953"
            ],
            [
             0.7777777777777778,
             "#fb9f3a"
            ],
            [
             0.8888888888888888,
             "#fdca26"
            ],
            [
             1,
             "#f0f921"
            ]
           ]
          },
          "colorway": [
           "#636efa",
           "#EF553B",
           "#00cc96",
           "#ab63fa",
           "#FFA15A",
           "#19d3f3",
           "#FF6692",
           "#B6E880",
           "#FF97FF",
           "#FECB52"
          ],
          "font": {
           "color": "#2a3f5f"
          },
          "geo": {
           "bgcolor": "white",
           "lakecolor": "white",
           "landcolor": "#E5ECF6",
           "showlakes": true,
           "showland": true,
           "subunitcolor": "white"
          },
          "hoverlabel": {
           "align": "left"
          },
          "hovermode": "closest",
          "mapbox": {
           "style": "light"
          },
          "paper_bgcolor": "white",
          "plot_bgcolor": "#E5ECF6",
          "polar": {
           "angularaxis": {
            "gridcolor": "white",
            "linecolor": "white",
            "ticks": ""
           },
           "bgcolor": "#E5ECF6",
           "radialaxis": {
            "gridcolor": "white",
            "linecolor": "white",
            "ticks": ""
           }
          },
          "scene": {
           "xaxis": {
            "backgroundcolor": "#E5ECF6",
            "gridcolor": "white",
            "gridwidth": 2,
            "linecolor": "white",
            "showbackground": true,
            "ticks": "",
            "zerolinecolor": "white"
           },
           "yaxis": {
            "backgroundcolor": "#E5ECF6",
            "gridcolor": "white",
            "gridwidth": 2,
            "linecolor": "white",
            "showbackground": true,
            "ticks": "",
            "zerolinecolor": "white"
           },
           "zaxis": {
            "backgroundcolor": "#E5ECF6",
            "gridcolor": "white",
            "gridwidth": 2,
            "linecolor": "white",
            "showbackground": true,
            "ticks": "",
            "zerolinecolor": "white"
           }
          },
          "shapedefaults": {
           "line": {
            "color": "#2a3f5f"
           }
          },
          "ternary": {
           "aaxis": {
            "gridcolor": "white",
            "linecolor": "white",
            "ticks": ""
           },
           "baxis": {
            "gridcolor": "white",
            "linecolor": "white",
            "ticks": ""
           },
           "bgcolor": "#E5ECF6",
           "caxis": {
            "gridcolor": "white",
            "linecolor": "white",
            "ticks": ""
           }
          },
          "title": {
           "x": 0.05
          },
          "xaxis": {
           "automargin": true,
           "gridcolor": "white",
           "linecolor": "white",
           "ticks": "",
           "title": {
            "standoff": 15
           },
           "zerolinecolor": "white",
           "zerolinewidth": 2
          },
          "yaxis": {
           "automargin": true,
           "gridcolor": "white",
           "linecolor": "white",
           "ticks": "",
           "title": {
            "standoff": 15
           },
           "zerolinecolor": "white",
           "zerolinewidth": 2
          }
         }
        },
        "title": {
         "text": "Fraser Lab"
        },
        "width": 1000,
        "xaxis": {
         "rangeselector": {
          "buttons": [
           {
            "count": 7,
            "label": "1w",
            "step": "day",
            "stepmode": "backward"
           },
           {
            "count": 1,
            "label": "1m",
            "step": "month",
            "stepmode": "backward"
           },
           {
            "count": 6,
            "label": "6m",
            "step": "month",
            "stepmode": "backward"
           },
           {
            "count": 1,
            "label": "YTD",
            "step": "year",
            "stepmode": "todate"
           },
           {
            "count": 1,
            "label": "1y",
            "step": "year",
            "stepmode": "backward"
           },
           {
            "step": "all"
           }
          ]
         },
         "showgrid": true,
         "type": "date",
         "zeroline": false
        },
        "yaxis": {
         "autorange": false,
         "range": [
          -1,
          51
         ],
         "showgrid": true,
         "ticktext": [
          "Tushar Raskar",
          "Pooja Asthana",
          "Lena Bergmann",
          "Chris Macdonald",
          "Ashraya Ravikumar",
          "Alexis Kelley",
          "Joanna Maddela",
          "Sophia Staggers",
          "Angelika Arada",
          "Eric Greene",
          "José Luis Olmos, Jr.",
          "Galen Correy",
          "Daniel Hogan",
          "Jen Michaud",
          "Willow Coyote-Maestas",
          "Rocco Caliandro",
          "Gabriella Estevam",
          "Leah Roe",
          "Mario Rodriguez",
          "Stephanie Wankowicz",
          "Hector Chaires",
          "Iris Young",
          "Saulo de Oliveira",
          "Roberto Efraín (Robbie) Díaz",
          "Jenna Pellegrino",
          "Vanessa Zhu",
          "Roberto Chica",
          "D. John Lee",
          "Kazutaka Ito",
          "Brandi Hudson",
          "Ralp Basilio",
          "Tomas Lazarou",
          "Alexander Wolff",
          "Saul Cortez",
          "Erin Thompson",
          "Justin Biel",
          "Michael Thompson",
          "Benjamin Barad",
          "Jennifer Li",
          "Dan Bolon",
          "Daniel Keedy",
          "Rahel Woldeyes",
          "David Mavor",
          "Khanh Vuu",
          "Lin Liu",
          "Andrew Van Benschoten",
          "Jessica Calderon",
          "Avi Samelson",
          "Lillian Kenner",
          "James Fraser"
         ],
         "tickvals": [
          0,
          1,
          2,
          3,
          4,
          5,
          6,
          7,
          8,
          9,
          10,
          11,
          12,
          13,
          14,
          15,
          16,
          17,
          18,
          19,
          20,
          21,
          22,
          23,
          24,
          25,
          26,
          27,
          28,
          29,
          30,
          31,
          32,
          33,
          34,
          35,
          36,
          37,
          38,
          39,
          40,
          41,
          42,
          43,
          44,
          45,
          46,
          47,
          48,
          49
         ],
         "zeroline": false
        }
       }
      },
      "text/html": [
       "<div>                            <div id=\"365fe351-3bf4-4745-9387-b1a4cbb63aa0\" class=\"plotly-graph-div\" style=\"height:1000px; width:1000px;\"></div>            <script type=\"text/javascript\">                require([\"plotly\"], function(Plotly) {                    window.PLOTLYENV=window.PLOTLYENV || {};                                    if (document.getElementById(\"365fe351-3bf4-4745-9387-b1a4cbb63aa0\")) {                    Plotly.newPlot(                        \"365fe351-3bf4-4745-9387-b1a4cbb63aa0\",                        [{\"fill\": \"toself\", \"fillcolor\": \"rgb(140, 86, 75)\", \"hoverinfo\": \"name\", \"legendgroup\": \"rgb(140, 86, 75)\", \"mode\": \"none\", \"name\": \"Specialist\", \"showlegend\": true, \"type\": \"scatter\", \"x\": [\"2011-01-01\", \"2014-09-01\", \"2014-09-01\", \"2011-01-01\", \"2011-01-01\", \"2011-05-01\", \"2011-08-01\", \"2011-08-01\", \"2011-05-01\", \"2011-05-01\", \"2011-10-01\", \"2021-02-19\", \"2021-02-19\", \"2011-10-01\", \"2011-10-01\", \"2012-01-01\", \"2013-07-01\", \"2013-07-01\", \"2012-01-01\", \"2012-01-01\", \"2016-03-01\", \"2016-12-01\", \"2016-12-01\", \"2016-03-01\", \"2016-03-01\", \"2019-05-20\", \"2020-07-31\", \"2020-07-31\", \"2019-05-20\", \"2019-05-20\", \"2019-07-01\", \"2020-08-01\", \"2020-08-01\", \"2019-07-01\", \"2019-07-01\", \"2019-08-05\", \"2021-06-02\", \"2021-06-02\", \"2019-08-05\", \"2019-08-05\", \"2020-02-13\", \"2021-06-02\", \"2021-06-02\", \"2020-02-13\", \"2020-02-13\", \"2020-05-11\", \"2021-06-02\", \"2021-06-02\", \"2020-05-11\", \"2020-05-11\", \"2021-06-14\", \"2021-06-02\", \"2021-06-02\", \"2021-06-14\", \"2021-06-14\", null, null, null, null], \"y\": [47.6, 47.6, 48.4, 48.4, null, 46.6, 46.6, 47.4, 47.4, null, 43.6, 43.6, 44.4, 44.4, null, 42.6, 42.6, 43.4, 43.4, null, 30.6, 30.6, 31.4, 31.4, null, 19.6, 19.6, 20.4, 20.4, null, 16.6, 16.6, 17.4, 17.4, null, 34.6, 34.6, 35.4, 35.4, null, 12.6, 12.6, 13.4, 13.4, null, 11.6, 11.6, 12.4, 12.4, null, 4.6, 4.6, 5.4, 5.4, null, 1.6, 1.6, 2.4, 2.4]}, {\"fill\": \"toself\", \"fillcolor\": \"rgb(148, 103, 189)\", \"hoverinfo\": \"name\", \"legendgroup\": \"rgb(148, 103, 189)\", \"mode\": \"none\", \"name\": \"SRTP\", \"showlegend\": true, \"type\": \"scatter\", \"x\": [\"2019-06-12\", \"2019-07-26\", \"2019-07-26\", \"2019-06-12\", \"2019-06-12\", \"2021-04-29\", \"2021-08-01\", \"2021-08-01\", \"2021-04-29\", \"2021-04-29\", \"2021-06-01\", \"2021-08-01\", \"2021-08-01\", \"2021-06-01\", \"2021-06-01\", \"2021-06-02\", \"2021-08-01\", \"2021-08-01\", \"2021-06-02\"], \"y\": [17.6, 17.6, 18.4, 18.4, null, 7.6, 7.6, 8.4, 8.4, null, 6.6, 6.6, 7.4, 7.4, null, 5.6, 5.6, 6.4, 6.4]}, {\"fill\": \"toself\", \"fillcolor\": \"rgb(214, 39, 40)\", \"hoverinfo\": \"name\", \"legendgroup\": \"rgb(214, 39, 40)\", \"mode\": \"none\", \"name\": \"SEP\", \"showlegend\": true, \"type\": \"scatter\", \"x\": [\"2011-06-01\", \"2012-08-01\", \"2012-08-01\", \"2011-06-01\", \"2011-06-01\", \"2014-06-01\", \"2017-08-01\", \"2017-08-01\", \"2014-06-01\", \"2014-06-01\", \"2015-06-01\", \"2017-08-01\", \"2017-08-01\", \"2015-06-01\", \"2015-06-01\", \"2016-06-01\", \"2018-08-01\", \"2018-08-01\", \"2016-06-01\", \"2016-06-01\", \"2018-06-01\", \"2019-08-01\", \"2019-08-01\", \"2018-06-01\"], \"y\": [45.6, 45.6, 46.4, 46.4, null, 37.6, 37.6, 38.4, 38.4, null, 32.6, 32.6, 33.4, 33.4, null, 29.6, 29.6, 30.4, 30.4, null, 24.6, 24.6, 25.4, 25.4]}, {\"fill\": \"toself\", \"fillcolor\": \"rgb(227, 119, 194)\", \"hoverinfo\": \"name\", \"legendgroup\": \"rgb(227, 119, 194)\", \"mode\": \"none\", \"name\": \"Visitor\", \"showlegend\": true, \"type\": \"scatter\", \"x\": [\"2014-05-01\", \"2014-08-01\", \"2014-08-01\", \"2014-05-01\", \"2014-05-01\", \"2017-01-01\", \"2018-01-01\", \"2018-01-01\", \"2017-01-01\", \"2017-01-01\", \"2018-01-01\", \"2018-05-01\", \"2018-05-01\", \"2018-01-01\", \"2018-01-01\", \"2020-02-01\", \"2020-02-28\", \"2020-02-28\", \"2020-02-01\", \"2020-02-01\", \"2020-02-01\", \"2021-01-31\", \"2021-01-31\", \"2020-02-01\"], \"y\": [38.6, 38.6, 39.4, 39.4, null, 27.6, 27.6, 28.4, 28.4, null, 25.6, 25.6, 26.4, 26.4, null, 14.6, 14.6, 15.4, 15.4, null, 13.6, 13.6, 14.4, 14.4]}, {\"fill\": \"toself\", \"fillcolor\": \"rgb(255, 127, 14)\", \"hoverinfo\": \"name\", \"legendgroup\": \"rgb(255, 127, 14)\", \"mode\": \"none\", \"name\": \"PI\", \"showlegend\": true, \"type\": \"scatter\", \"x\": [\"2011-01-01\", \"2021-06-02\", \"2021-06-02\", \"2011-01-01\"], \"y\": [48.6, 48.6, 49.4, 49.4]}, {\"fill\": \"toself\", \"fillcolor\": \"rgb(31, 119, 180)\", \"hoverinfo\": \"name\", \"legendgroup\": \"rgb(31, 119, 180)\", \"mode\": \"none\", \"name\": \"Graduate Student\", \"showlegend\": true, \"type\": \"scatter\", \"x\": [\"2011-09-01\", \"2015-05-26\", \"2015-05-26\", \"2011-09-01\", \"2011-09-01\", \"2012-09-01\", \"2017-04-01\", \"2017-04-01\", \"2012-09-01\", \"2012-09-01\", \"2012-09-01\", \"2017-02-09\", \"2017-02-09\", \"2012-09-01\", \"2012-09-01\", \"2014-09-01\", \"2019-07-29\", \"2019-07-29\", \"2014-09-01\", \"2014-09-01\", \"2014-09-02\", \"2021-06-02\", \"2021-06-02\", \"2014-09-02\", \"2014-09-02\", \"2015-06-01\", \"2020-12-31\", \"2020-12-31\", \"2015-06-01\", \"2015-06-01\", \"2015-09-01\", \"2020-03-24\", \"2020-03-24\", \"2015-09-01\", \"2015-09-01\", \"2018-06-13\", \"2021-06-02\", \"2021-06-02\", \"2018-06-13\", \"2018-06-13\", \"2018-06-25\", \"2021-06-02\", \"2021-06-02\", \"2018-06-25\", \"2018-06-25\", \"2019-06-06\", \"2021-06-02\", \"2021-06-02\", \"2019-06-06\", \"2019-06-06\", \"2019-07-19\", \"2021-06-02\", \"2021-06-02\", \"2019-07-19\"], \"y\": [44.6, 44.6, 45.4, 45.4, null, 41.6, 41.6, 42.4, 42.4, null, 40.6, 40.6, 41.4, 41.4, null, 36.6, 36.6, 37.4, 37.4, null, 34.6, 34.6, 35.4, 35.4, null, 33.6, 33.6, 34.4, 34.4, null, 31.6, 31.6, 32.4, 32.4, null, 23.6, 23.6, 24.4, 24.4, null, 22.6, 22.6, 23.4, 23.4, null, 18.6, 18.6, 19.4, 19.4, null, 15.6, 15.6, 16.4, 16.4]}, {\"fill\": \"toself\", \"fillcolor\": \"rgb(44, 160, 44)\", \"hoverinfo\": \"name\", \"legendgroup\": \"rgb(44, 160, 44)\", \"mode\": \"none\", \"name\": \"Postdoctoral Fellow\", \"showlegend\": true, \"type\": \"scatter\", \"x\": [\"2012-11-01\", \"2017-11-01\", \"2017-11-01\", \"2012-11-01\", \"2012-11-01\", \"2014-09-01\", \"2020-08-01\", \"2020-08-01\", \"2014-09-01\", \"2014-09-01\", \"2016-08-15\", \"2018-02-09\", \"2018-02-09\", \"2016-08-15\", \"2016-08-15\", \"2017-11-01\", \"2021-06-02\", \"2021-06-02\", \"2017-11-01\", \"2017-11-01\", \"2018-07-01\", \"2019-08-14\", \"2019-08-14\", \"2018-07-01\", \"2018-07-01\", \"2018-08-09\", \"2021-06-02\", \"2021-06-02\", \"2018-08-09\", \"2018-08-09\", \"2020-05-20\", \"2021-06-02\", \"2021-06-02\", \"2020-05-20\", \"2020-05-20\", \"2020-06-15\", \"2021-06-02\", \"2021-06-02\", \"2020-06-15\", \"2020-06-15\", \"2020-08-01\", \"2021-06-02\", \"2021-06-02\", \"2020-08-01\", \"2020-08-01\", null, null, null, null, null, null, null, null, null, null, null, null, null, null, null, null, null, null, null], \"y\": [39.6, 39.6, 40.4, 40.4, null, 35.6, 35.6, 36.4, 36.4, null, 28.6, 28.6, 29.4, 29.4, null, 26.6, 26.6, 27.4, 27.4, null, 21.6, 21.6, 22.4, 22.4, null, 20.6, 20.6, 21.4, 21.4, null, 10.6, 10.6, 11.4, 11.4, null, 9.6, 9.6, 10.4, 10.4, null, 8.6, 8.6, 9.4, 9.4, null, 3.6, 3.6, 4.4, 4.4, null, 2.6, 2.6, 3.4, 3.4, null, 0.6, 0.6, 1.4, 1.4, null, -0.4, -0.4, 0.4, 0.4]}, {\"legendgroup\": \"rgb(140, 86, 75)\", \"marker\": {\"color\": \"rgb(140, 86, 75)\", \"opacity\": 0, \"size\": 1}, \"mode\": \"markers\", \"name\": \"\", \"showlegend\": false, \"text\": [null, null, null, null, null, null, null, null, null, null, null, null, null, null, null, null, null, null, null, null, null, null, null, null], \"type\": \"scatter\", \"x\": [\"2011-01-01\", \"2014-09-01\", \"2011-05-01\", \"2011-08-01\", \"2011-10-01\", \"2021-02-19\", \"2012-01-01\", \"2013-07-01\", \"2016-03-01\", \"2016-12-01\", \"2019-05-20\", \"2020-07-31\", \"2019-07-01\", \"2020-08-01\", \"2019-08-05\", \"2021-06-02\", \"2020-02-13\", \"2021-06-02\", \"2020-05-11\", \"2021-06-02\", \"2021-06-14\", \"2021-06-02\", null, null], \"y\": [48, 48, 47, 47, 44, 44, 43, 43, 31, 31, 20, 20, 17, 17, 35, 35, 13, 13, 12, 12, 5, 5, 2, 2]}, {\"legendgroup\": \"rgb(148, 103, 189)\", \"marker\": {\"color\": \"rgb(148, 103, 189)\", \"opacity\": 0, \"size\": 1}, \"mode\": \"markers\", \"name\": \"\", \"showlegend\": false, \"text\": [null, null, null, null, null, null, null, null], \"type\": \"scatter\", \"x\": [\"2019-06-12\", \"2019-07-26\", \"2021-04-29\", \"2021-08-01\", \"2021-06-01\", \"2021-08-01\", \"2021-06-02\", \"2021-08-01\"], \"y\": [18, 18, 8, 8, 7, 7, 6, 6]}, {\"legendgroup\": \"rgb(214, 39, 40)\", \"marker\": {\"color\": \"rgb(214, 39, 40)\", \"opacity\": 0, \"size\": 1}, \"mode\": \"markers\", \"name\": \"\", \"showlegend\": false, \"text\": [null, null, null, null, null, null, null, null, null, null], \"type\": \"scatter\", \"x\": [\"2011-06-01\", \"2012-08-01\", \"2014-06-01\", \"2017-08-01\", \"2015-06-01\", \"2017-08-01\", \"2016-06-01\", \"2018-08-01\", \"2018-06-01\", \"2019-08-01\"], \"y\": [46, 46, 38, 38, 33, 33, 30, 30, 25, 25]}, {\"legendgroup\": \"rgb(227, 119, 194)\", \"marker\": {\"color\": \"rgb(227, 119, 194)\", \"opacity\": 0, \"size\": 1}, \"mode\": \"markers\", \"name\": \"\", \"showlegend\": false, \"text\": [null, null, null, null, null, null, null, null, null, null], \"type\": \"scatter\", \"x\": [\"2014-05-01\", \"2014-08-01\", \"2017-01-01\", \"2018-01-01\", \"2018-01-01\", \"2018-05-01\", \"2020-02-01\", \"2020-02-28\", \"2020-02-01\", \"2021-01-31\"], \"y\": [39, 39, 28, 28, 26, 26, 15, 15, 14, 14]}, {\"legendgroup\": \"rgb(255, 127, 14)\", \"marker\": {\"color\": \"rgb(255, 127, 14)\", \"opacity\": 0, \"size\": 1}, \"mode\": \"markers\", \"name\": \"\", \"showlegend\": false, \"text\": [null, null], \"type\": \"scatter\", \"x\": [\"2011-01-01\", \"2021-06-02\"], \"y\": [49, 49]}, {\"legendgroup\": \"rgb(31, 119, 180)\", \"marker\": {\"color\": \"rgb(31, 119, 180)\", \"opacity\": 0, \"size\": 1}, \"mode\": \"markers\", \"name\": \"\", \"showlegend\": false, \"text\": [null, null, null, null, null, null, null, null, null, null, null, null, null, null, null, null, null, null, null, null, null, null], \"type\": \"scatter\", \"x\": [\"2011-09-01\", \"2015-05-26\", \"2012-09-01\", \"2017-04-01\", \"2012-09-01\", \"2017-02-09\", \"2014-09-01\", \"2019-07-29\", \"2014-09-02\", \"2021-06-02\", \"2015-06-01\", \"2020-12-31\", \"2015-09-01\", \"2020-03-24\", \"2018-06-13\", \"2021-06-02\", \"2018-06-25\", \"2021-06-02\", \"2019-06-06\", \"2021-06-02\", \"2019-07-19\", \"2021-06-02\"], \"y\": [45, 45, 42, 42, 41, 41, 37, 37, 35, 35, 34, 34, 32, 32, 24, 24, 23, 23, 19, 19, 16, 16]}, {\"legendgroup\": \"rgb(44, 160, 44)\", \"marker\": {\"color\": \"rgb(44, 160, 44)\", \"opacity\": 0, \"size\": 1}, \"mode\": \"markers\", \"name\": \"\", \"showlegend\": false, \"text\": [null, null, null, null, null, null, null, null, null, null, null, null, null, null, null, null, null, null, null, null, null, null, null, null, null, null], \"type\": \"scatter\", \"x\": [\"2012-11-01\", \"2017-11-01\", \"2014-09-01\", \"2020-08-01\", \"2016-08-15\", \"2018-02-09\", \"2017-11-01\", \"2021-06-02\", \"2018-07-01\", \"2019-08-14\", \"2018-08-09\", \"2021-06-02\", \"2020-05-20\", \"2021-06-02\", \"2020-06-15\", \"2021-06-02\", \"2020-08-01\", \"2021-06-02\", null, null, null, null, null, null, null, null], \"y\": [40, 40, 36, 36, 29, 29, 27, 27, 22, 22, 21, 21, 11, 11, 10, 10, 9, 9, 4, 4, 3, 3, 1, 1, 0, 0]}],                        {\"autosize\": true, \"height\": 1000, \"hovermode\": \"closest\", \"margin\": {\"b\": 100, \"l\": 150, \"pad\": 4, \"r\": 5, \"t\": 100}, \"showlegend\": true, \"template\": {\"data\": {\"bar\": [{\"error_x\": {\"color\": \"#2a3f5f\"}, \"error_y\": {\"color\": \"#2a3f5f\"}, \"marker\": {\"line\": {\"color\": \"#E5ECF6\", \"width\": 0.5}}, \"type\": \"bar\"}], \"barpolar\": [{\"marker\": {\"line\": {\"color\": \"#E5ECF6\", \"width\": 0.5}}, \"type\": \"barpolar\"}], \"carpet\": [{\"aaxis\": {\"endlinecolor\": \"#2a3f5f\", \"gridcolor\": \"white\", \"linecolor\": \"white\", \"minorgridcolor\": \"white\", \"startlinecolor\": \"#2a3f5f\"}, \"baxis\": {\"endlinecolor\": \"#2a3f5f\", \"gridcolor\": \"white\", \"linecolor\": \"white\", \"minorgridcolor\": \"white\", \"startlinecolor\": \"#2a3f5f\"}, \"type\": \"carpet\"}], \"choropleth\": [{\"colorbar\": {\"outlinewidth\": 0, \"ticks\": \"\"}, \"type\": \"choropleth\"}], \"contour\": [{\"colorbar\": {\"outlinewidth\": 0, \"ticks\": \"\"}, \"colorscale\": [[0.0, \"#0d0887\"], [0.1111111111111111, \"#46039f\"], [0.2222222222222222, \"#7201a8\"], [0.3333333333333333, \"#9c179e\"], [0.4444444444444444, \"#bd3786\"], [0.5555555555555556, \"#d8576b\"], [0.6666666666666666, \"#ed7953\"], [0.7777777777777778, \"#fb9f3a\"], [0.8888888888888888, \"#fdca26\"], [1.0, \"#f0f921\"]], \"type\": \"contour\"}], \"contourcarpet\": [{\"colorbar\": {\"outlinewidth\": 0, \"ticks\": \"\"}, \"type\": \"contourcarpet\"}], \"heatmap\": [{\"colorbar\": {\"outlinewidth\": 0, \"ticks\": \"\"}, \"colorscale\": [[0.0, \"#0d0887\"], [0.1111111111111111, \"#46039f\"], [0.2222222222222222, \"#7201a8\"], [0.3333333333333333, \"#9c179e\"], [0.4444444444444444, \"#bd3786\"], [0.5555555555555556, \"#d8576b\"], [0.6666666666666666, \"#ed7953\"], [0.7777777777777778, \"#fb9f3a\"], [0.8888888888888888, \"#fdca26\"], [1.0, \"#f0f921\"]], \"type\": \"heatmap\"}], \"heatmapgl\": [{\"colorbar\": {\"outlinewidth\": 0, \"ticks\": \"\"}, \"colorscale\": [[0.0, \"#0d0887\"], [0.1111111111111111, \"#46039f\"], [0.2222222222222222, \"#7201a8\"], [0.3333333333333333, \"#9c179e\"], [0.4444444444444444, \"#bd3786\"], [0.5555555555555556, \"#d8576b\"], [0.6666666666666666, \"#ed7953\"], [0.7777777777777778, \"#fb9f3a\"], [0.8888888888888888, \"#fdca26\"], [1.0, \"#f0f921\"]], \"type\": \"heatmapgl\"}], \"histogram\": [{\"marker\": {\"colorbar\": {\"outlinewidth\": 0, \"ticks\": \"\"}}, \"type\": \"histogram\"}], \"histogram2d\": [{\"colorbar\": {\"outlinewidth\": 0, \"ticks\": \"\"}, \"colorscale\": [[0.0, \"#0d0887\"], [0.1111111111111111, \"#46039f\"], [0.2222222222222222, \"#7201a8\"], [0.3333333333333333, \"#9c179e\"], [0.4444444444444444, \"#bd3786\"], [0.5555555555555556, \"#d8576b\"], [0.6666666666666666, \"#ed7953\"], [0.7777777777777778, \"#fb9f3a\"], [0.8888888888888888, \"#fdca26\"], [1.0, \"#f0f921\"]], \"type\": \"histogram2d\"}], \"histogram2dcontour\": [{\"colorbar\": {\"outlinewidth\": 0, \"ticks\": \"\"}, \"colorscale\": [[0.0, \"#0d0887\"], [0.1111111111111111, \"#46039f\"], [0.2222222222222222, \"#7201a8\"], [0.3333333333333333, \"#9c179e\"], [0.4444444444444444, \"#bd3786\"], [0.5555555555555556, \"#d8576b\"], [0.6666666666666666, \"#ed7953\"], [0.7777777777777778, \"#fb9f3a\"], [0.8888888888888888, \"#fdca26\"], [1.0, \"#f0f921\"]], \"type\": \"histogram2dcontour\"}], \"mesh3d\": [{\"colorbar\": {\"outlinewidth\": 0, \"ticks\": \"\"}, \"type\": \"mesh3d\"}], \"parcoords\": [{\"line\": {\"colorbar\": {\"outlinewidth\": 0, \"ticks\": \"\"}}, \"type\": \"parcoords\"}], \"pie\": [{\"automargin\": true, \"type\": \"pie\"}], \"scatter\": [{\"marker\": {\"colorbar\": {\"outlinewidth\": 0, \"ticks\": \"\"}}, \"type\": \"scatter\"}], \"scatter3d\": [{\"line\": {\"colorbar\": {\"outlinewidth\": 0, \"ticks\": \"\"}}, \"marker\": {\"colorbar\": {\"outlinewidth\": 0, \"ticks\": \"\"}}, \"type\": \"scatter3d\"}], \"scattercarpet\": [{\"marker\": {\"colorbar\": {\"outlinewidth\": 0, \"ticks\": \"\"}}, \"type\": \"scattercarpet\"}], \"scattergeo\": [{\"marker\": {\"colorbar\": {\"outlinewidth\": 0, \"ticks\": \"\"}}, \"type\": \"scattergeo\"}], \"scattergl\": [{\"marker\": {\"colorbar\": {\"outlinewidth\": 0, \"ticks\": \"\"}}, \"type\": \"scattergl\"}], \"scattermapbox\": [{\"marker\": {\"colorbar\": {\"outlinewidth\": 0, \"ticks\": \"\"}}, \"type\": \"scattermapbox\"}], \"scatterpolar\": [{\"marker\": {\"colorbar\": {\"outlinewidth\": 0, \"ticks\": \"\"}}, \"type\": \"scatterpolar\"}], \"scatterpolargl\": [{\"marker\": {\"colorbar\": {\"outlinewidth\": 0, \"ticks\": \"\"}}, \"type\": \"scatterpolargl\"}], \"scatterternary\": [{\"marker\": {\"colorbar\": {\"outlinewidth\": 0, \"ticks\": \"\"}}, \"type\": \"scatterternary\"}], \"surface\": [{\"colorbar\": {\"outlinewidth\": 0, \"ticks\": \"\"}, \"colorscale\": [[0.0, \"#0d0887\"], [0.1111111111111111, \"#46039f\"], [0.2222222222222222, \"#7201a8\"], [0.3333333333333333, \"#9c179e\"], [0.4444444444444444, \"#bd3786\"], [0.5555555555555556, \"#d8576b\"], [0.6666666666666666, \"#ed7953\"], [0.7777777777777778, \"#fb9f3a\"], [0.8888888888888888, \"#fdca26\"], [1.0, \"#f0f921\"]], \"type\": \"surface\"}], \"table\": [{\"cells\": {\"fill\": {\"color\": \"#EBF0F8\"}, \"line\": {\"color\": \"white\"}}, \"header\": {\"fill\": {\"color\": \"#C8D4E3\"}, \"line\": {\"color\": \"white\"}}, \"type\": \"table\"}]}, \"layout\": {\"annotationdefaults\": {\"arrowcolor\": \"#2a3f5f\", \"arrowhead\": 0, \"arrowwidth\": 1}, \"autotypenumbers\": \"strict\", \"coloraxis\": {\"colorbar\": {\"outlinewidth\": 0, \"ticks\": \"\"}}, \"colorscale\": {\"diverging\": [[0, \"#8e0152\"], [0.1, \"#c51b7d\"], [0.2, \"#de77ae\"], [0.3, \"#f1b6da\"], [0.4, \"#fde0ef\"], [0.5, \"#f7f7f7\"], [0.6, \"#e6f5d0\"], [0.7, \"#b8e186\"], [0.8, \"#7fbc41\"], [0.9, \"#4d9221\"], [1, \"#276419\"]], \"sequential\": [[0.0, \"#0d0887\"], [0.1111111111111111, \"#46039f\"], [0.2222222222222222, \"#7201a8\"], [0.3333333333333333, \"#9c179e\"], [0.4444444444444444, \"#bd3786\"], [0.5555555555555556, \"#d8576b\"], [0.6666666666666666, \"#ed7953\"], [0.7777777777777778, \"#fb9f3a\"], [0.8888888888888888, \"#fdca26\"], [1.0, \"#f0f921\"]], \"sequentialminus\": [[0.0, \"#0d0887\"], [0.1111111111111111, \"#46039f\"], [0.2222222222222222, \"#7201a8\"], [0.3333333333333333, \"#9c179e\"], [0.4444444444444444, \"#bd3786\"], [0.5555555555555556, \"#d8576b\"], [0.6666666666666666, \"#ed7953\"], [0.7777777777777778, \"#fb9f3a\"], [0.8888888888888888, \"#fdca26\"], [1.0, \"#f0f921\"]]}, \"colorway\": [\"#636efa\", \"#EF553B\", \"#00cc96\", \"#ab63fa\", \"#FFA15A\", \"#19d3f3\", \"#FF6692\", \"#B6E880\", \"#FF97FF\", \"#FECB52\"], \"font\": {\"color\": \"#2a3f5f\"}, \"geo\": {\"bgcolor\": \"white\", \"lakecolor\": \"white\", \"landcolor\": \"#E5ECF6\", \"showlakes\": true, \"showland\": true, \"subunitcolor\": \"white\"}, \"hoverlabel\": {\"align\": \"left\"}, \"hovermode\": \"closest\", \"mapbox\": {\"style\": \"light\"}, \"paper_bgcolor\": \"white\", \"plot_bgcolor\": \"#E5ECF6\", \"polar\": {\"angularaxis\": {\"gridcolor\": \"white\", \"linecolor\": \"white\", \"ticks\": \"\"}, \"bgcolor\": \"#E5ECF6\", \"radialaxis\": {\"gridcolor\": \"white\", \"linecolor\": \"white\", \"ticks\": \"\"}}, \"scene\": {\"xaxis\": {\"backgroundcolor\": \"#E5ECF6\", \"gridcolor\": \"white\", \"gridwidth\": 2, \"linecolor\": \"white\", \"showbackground\": true, \"ticks\": \"\", \"zerolinecolor\": \"white\"}, \"yaxis\": {\"backgroundcolor\": \"#E5ECF6\", \"gridcolor\": \"white\", \"gridwidth\": 2, \"linecolor\": \"white\", \"showbackground\": true, \"ticks\": \"\", \"zerolinecolor\": \"white\"}, \"zaxis\": {\"backgroundcolor\": \"#E5ECF6\", \"gridcolor\": \"white\", \"gridwidth\": 2, \"linecolor\": \"white\", \"showbackground\": true, \"ticks\": \"\", \"zerolinecolor\": \"white\"}}, \"shapedefaults\": {\"line\": {\"color\": \"#2a3f5f\"}}, \"ternary\": {\"aaxis\": {\"gridcolor\": \"white\", \"linecolor\": \"white\", \"ticks\": \"\"}, \"baxis\": {\"gridcolor\": \"white\", \"linecolor\": \"white\", \"ticks\": \"\"}, \"bgcolor\": \"#E5ECF6\", \"caxis\": {\"gridcolor\": \"white\", \"linecolor\": \"white\", \"ticks\": \"\"}}, \"title\": {\"x\": 0.05}, \"xaxis\": {\"automargin\": true, \"gridcolor\": \"white\", \"linecolor\": \"white\", \"ticks\": \"\", \"title\": {\"standoff\": 15}, \"zerolinecolor\": \"white\", \"zerolinewidth\": 2}, \"yaxis\": {\"automargin\": true, \"gridcolor\": \"white\", \"linecolor\": \"white\", \"ticks\": \"\", \"title\": {\"standoff\": 15}, \"zerolinecolor\": \"white\", \"zerolinewidth\": 2}}}, \"title\": {\"text\": \"Fraser Lab\"}, \"width\": 1000, \"xaxis\": {\"rangeselector\": {\"buttons\": [{\"count\": 7, \"label\": \"1w\", \"step\": \"day\", \"stepmode\": \"backward\"}, {\"count\": 1, \"label\": \"1m\", \"step\": \"month\", \"stepmode\": \"backward\"}, {\"count\": 6, \"label\": \"6m\", \"step\": \"month\", \"stepmode\": \"backward\"}, {\"count\": 1, \"label\": \"YTD\", \"step\": \"year\", \"stepmode\": \"todate\"}, {\"count\": 1, \"label\": \"1y\", \"step\": \"year\", \"stepmode\": \"backward\"}, {\"step\": \"all\"}]}, \"showgrid\": true, \"type\": \"date\", \"zeroline\": false}, \"yaxis\": {\"autorange\": false, \"range\": [-1, 51], \"showgrid\": true, \"ticktext\": [\"Tushar Raskar\", \"Pooja Asthana\", \"Lena Bergmann\", \"Chris Macdonald\", \"Ashraya Ravikumar\", \"Alexis Kelley\", \"Joanna Maddela\", \"Sophia Staggers\", \"Angelika Arada\", \"Eric Greene\", \"Jos\\u00e9 Luis Olmos, Jr.\", \"Galen Correy\", \"Daniel Hogan\", \"Jen Michaud\", \"Willow Coyote-Maestas\", \"Rocco Caliandro\", \"Gabriella Estevam\", \"Leah Roe\", \"Mario Rodriguez\", \"Stephanie Wankowicz\", \"Hector Chaires\", \"Iris Young\", \"Saulo de Oliveira\", \"Roberto Efra\\u00edn (Robbie) D\\u00edaz\", \"Jenna Pellegrino\", \"Vanessa Zhu\", \"Roberto Chica\", \"D. John Lee\", \"Kazutaka Ito\", \"Brandi Hudson\", \"Ralp Basilio\", \"Tomas Lazarou\", \"Alexander Wolff\", \"Saul Cortez\", \"Erin Thompson\", \"Justin Biel\", \"Michael Thompson\", \"Benjamin Barad\", \"Jennifer Li\", \"Dan Bolon\", \"Daniel Keedy\", \"Rahel Woldeyes\", \"David Mavor\", \"Khanh Vuu\", \"Lin Liu\", \"Andrew Van Benschoten\", \"Jessica Calderon\", \"Avi Samelson\", \"Lillian Kenner\", \"James Fraser\"], \"tickvals\": [0, 1, 2, 3, 4, 5, 6, 7, 8, 9, 10, 11, 12, 13, 14, 15, 16, 17, 18, 19, 20, 21, 22, 23, 24, 25, 26, 27, 28, 29, 30, 31, 32, 33, 34, 35, 36, 37, 38, 39, 40, 41, 42, 43, 44, 45, 46, 47, 48, 49], \"zeroline\": false}},                        {\"responsive\": true}                    ).then(function(){\n",
       "                            \n",
       "var gd = document.getElementById('365fe351-3bf4-4745-9387-b1a4cbb63aa0');\n",
       "var x = new MutationObserver(function (mutations, observer) {{\n",
       "        var display = window.getComputedStyle(gd).display;\n",
       "        if (!display || display === 'none') {{\n",
       "            console.log([gd, 'removed!']);\n",
       "            Plotly.purge(gd);\n",
       "            observer.disconnect();\n",
       "        }}\n",
       "}});\n",
       "\n",
       "// Listen for the removal of the full notebook cells\n",
       "var notebookContainer = gd.closest('#notebook-container');\n",
       "if (notebookContainer) {{\n",
       "    x.observe(notebookContainer, {childList: true});\n",
       "}}\n",
       "\n",
       "// Listen for the clearing of the current output cell\n",
       "var outputEl = gd.closest('.output');\n",
       "if (outputEl) {{\n",
       "    x.observe(outputEl, {childList: true});\n",
       "}}\n",
       "\n",
       "                        })                };                });            </script>        </div>"
      ]
     },
     "metadata": {},
     "output_type": "display_data"
    }
   ],
   "source": [
    "import plotly.figure_factory as ff\n",
    "import plotly.graph_objects as go\n",
    "\n",
    "# Gantt chart in Plotly has mandatory format of data columns\n",
    "df.columns = ['Task', 'Start', 'Finish', 'Role']\n",
    "\n",
    "fig_plotly = ff.create_gantt(df, index_col='Role', title='Fraser Lab',\n",
    "                             show_colorbar=True, bar_width=0.4, showgrid_x=True, showgrid_y=True, group_tasks=True)\n",
    "\n",
    "fig_plotly.update_layout(\n",
    "    autosize=True,\n",
    "    width=1000,\n",
    "    height=1000,\n",
    "    margin=go.layout.Margin(\n",
    "        l=150,\n",
    "        r=5,\n",
    "        b=100,\n",
    "        t=100,\n",
    "        pad=4\n",
    "    )\n",
    ")\n",
    "\n"
   ]
  },
  {
   "cell_type": "code",
   "execution_count": null,
   "id": "b9568f1a",
   "metadata": {},
   "outputs": [],
   "source": []
  }
 ],
 "metadata": {
  "kernelspec": {
   "display_name": "Python 3",
   "language": "python",
   "name": "python3"
  },
  "language_info": {
   "codemirror_mode": {
    "name": "ipython",
    "version": 3
   },
   "file_extension": ".py",
   "mimetype": "text/x-python",
   "name": "python",
   "nbconvert_exporter": "python",
   "pygments_lexer": "ipython3",
   "version": "3.8.8"
  }
 },
 "nbformat": 4,
 "nbformat_minor": 5
}
